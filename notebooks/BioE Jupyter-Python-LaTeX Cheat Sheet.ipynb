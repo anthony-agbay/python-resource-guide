{
 "cells": [
  {
   "cell_type": "markdown",
   "metadata": {},
   "source": [
    "# BioE TA Jupyter-Python-LaTeX Guide\n",
    "\n",
    "This document is a guide for future BioE department TA's and their students as a supplementary introduction to Jupyter notebooks, Python, and LaTeX. While you may have extensive experience with Python and Jupyter notebooks, this guide should provide answers to some of the common needs that come up through the course of the BioE core!\n",
    "\n",
    "This guide is adapted from BioE 300B, BioE 103, and BioE 279!"
   ]
  },
  {
   "cell_type": "markdown",
   "metadata": {},
   "source": [
    "## 1.0 - Jupyter Notebooks\n",
    "\n",
    "Jupyter Notebooks is a special implementation of Python that enables you to run Python in an interactive environment in combination with textual annotations through a syntax called Markdown. Jupyter notebooks are split into 'cells' that either contain Markdown (plain text) or code.\n",
    "\n",
    "## 2.0 - Introduction to Markdown\n",
    "\n",
    "Markdown is a plain-text syntax that is interpreted into rich-text that you normally see in a word processor. If you would like full documentation, see the following [Github Guide](https://guides.github.com/features/mastering-markdown/).\n",
    "\n",
    "### 2.1 - Headers\n",
    "\n",
    "Markdown can automatically format multiple levels of headers (1-6) similar to a word-processer. Headers are indicated using the following syntax:\n",
    "\n",
    "`# Header Title`\n",
    "\n",
    "Where the number of `#` indicate the header level. (E.g. `### Header 3`)\n",
    "\n",
    "### 2.2 - Bold and Italic\n",
    "\n",
    "Bold and italics are indicated by wrapping the text in asterisks (\\*). Two asterisks (`**text**`) will result in **bolded text**. One asterisk (`*text*`) results in *italicized text*.\n",
    "\n",
    "### 2.3 - Lists\n",
    "\n",
    "Markdown supports both unordered and ordered lists.\n",
    "\n",
    "#### Unordered List\n",
    "To make an unordered list, use the following syntax:\n",
    "\n",
    "```\n",
    "- Item 1\n",
    "- Item 2\n",
    "- Item 3\n",
    "```\n",
    "\n",
    "This will generate the following list:\n",
    "\n",
    "- Item 1\n",
    "- Item 2\n",
    "- Item 3\n",
    "\n",
    "#### Ordered List\n",
    "To make an ordered list, use the following syntax:\n",
    "```\n",
    "1. Item 1\n",
    "2. Item 2\n",
    "3. Item 3\n",
    "```\n",
    "\n",
    "This will generate the following list:\n",
    "\n",
    "1. Item 1\n",
    "2. Item 1\n",
    "3. Item 1\n",
    "\n",
    "## 3.0 - LaTeX"
   ]
  },
  {
   "cell_type": "markdown",
   "metadata": {},
   "source": [
    "## 4.0 - Python Basics\n",
    "\n",
    "Below is an introduction to the basic functions,types, etc. that you will run into with Python!"
   ]
  },
  {
   "cell_type": "markdown",
   "metadata": {},
   "source": [
    "### 4.1 - Python Version\n",
    "One important thing to always check when starting your project is to know what version of Python you're working with. Python 3 is most common, but please check with your instructors for the exact version (3.6, 3.7, ...). There can be some bug-inducing changes in syntax from version to version and this will reduce any of those headaches. This extends to looking at documentation -- make sure to double check what version of the Python documentation you are using!"
   ]
  },
  {
   "cell_type": "markdown",
   "metadata": {},
   "source": [
    "### 4.2 - Python Types"
   ]
  },
  {
   "cell_type": "markdown",
   "metadata": {},
   "source": [
    "### 4.3 - Python Packages\n",
    "\n",
    "While the core Python installation contains many useful tools, additional functionality can be added by importing **Python Modules**. These packages allow you to add things like graphing and plotting tools, efficient data management and matrix operations, graph and network analysis, machine learning implementations, and more. The most common packages you'll run into are briefly described below with links to their respective documentation:\n",
    "\n",
    "1. **Numpy**: Used for data storage and handling, especially when working with matrix operations\n",
    "2. **Pandas**: Used when working with complex data inputs, especially when there's a mix of numerical and categorical data.\n",
    "3. **Matplotlib.pyplot**: Standard image and graphing module.\n",
    "4. **Scipy**: Complex scientific computing (ODE solvers, etc.)\n",
    "5. **scikit-learn**: Basic machine learning implementations and functions\n",
    "\n",
    "Just like checking for what version of Python you're using, make sure to double check what version of the package you will need!\n",
    "\n",
    "These modules are not loaded in by default to keep the computing environment as clean and simple as possible, but it provides an easy way of loading them in when needed:"
   ]
  },
  {
   "cell_type": "code",
   "execution_count": 4,
   "metadata": {},
   "outputs": [],
   "source": [
    "### Guide to importing Python Packages ###\n",
    "\n",
    "## Import entire module at once ##\n",
    "\n",
    "# All numpy functions can be called using numpy.{function}\n",
    "import numpy\n",
    "\n",
    "# Adding the \"as\" operator changes the syntax to np.{function}\n",
    "import numpy as np\n",
    "\n",
    "# You can also specify multiple packages with ','\n",
    "import scipy, sklearn\n",
    "\n",
    "## From {Module} import {function}\n",
    "\n",
    "# This syntax allows you to import specific functions without the whole package\n",
    "# It also enables calling the function without specifying the package\n",
    "from numpy import sqrt \n",
    "a = sqrt(4)"
   ]
  },
  {
   "cell_type": "markdown",
   "metadata": {},
   "source": [
    "### 4.4 - Printing in Python\n",
    "\n",
    "Printing in Python is very common procedure, especially when trying to debug code."
   ]
  },
  {
   "cell_type": "code",
   "execution_count": 22,
   "metadata": {},
   "outputs": [
    {
     "name": "stdout",
     "output_type": "stream",
     "text": [
      "Hello World General\n",
      "Hello World Line 1\n",
      "Hello World Line 2\n",
      "Hello World Variable\n",
      "Hello World Arguments\n",
      "The answer to life is 42\n"
     ]
    }
   ],
   "source": [
    "### General Print Statement ###\n",
    "\n",
    "# Python can print out anything passed into the print() function\n",
    "print('Hello World General') \n",
    "\n",
    "# Use a '\\n' character to introduce a newline within a statment if needed\n",
    "print('Hello World Line 1\\nHello World Line 2') \n",
    "\n",
    "# You can also pass in a variable defined earlier\n",
    "a = 'Hello World Variable'\n",
    "print(a)\n",
    "\n",
    "# You can pass multiple things to the print command to combine them together\n",
    "# with a space between each group\n",
    "print('Hello','World Arguments')\n",
    "\n",
    "# You can pass different types at the same time\n",
    "print('The answer to life is',42)"
   ]
  },
  {
   "cell_type": "markdown",
   "metadata": {},
   "source": [
    "#### 4.4.1 - String Formatting\n",
    "One common problem when using print statements and variables, especially when debugging, is to only print the value, making it difficult to know where eah value is coming from. In simple cases, it may be easy to decipher where each line is coming from, but in more complex cases, it can be next to impossible."
   ]
  },
  {
   "cell_type": "code",
   "execution_count": 12,
   "metadata": {},
   "outputs": [
    {
     "name": "stdout",
     "output_type": "stream",
     "text": [
      "1\n",
      "2\n",
      "2\n",
      "4\n",
      "3\n",
      "6\n"
     ]
    }
   ],
   "source": [
    "# This is a bad example: which line corresponds to which output?\n",
    "\n",
    "i = 1\n",
    "j = 2\n",
    "for k in range(3):\n",
    "    print(i)\n",
    "    i += 1 \n",
    "    print(j)\n",
    "    j += 2"
   ]
  },
  {
   "cell_type": "markdown",
   "metadata": {},
   "source": [
    "String formatting is a simple way of passing in variables into strings. While the use case goes beyond printing out debugging statements, they are a perfect method of making your debugging life easier!"
   ]
  },
  {
   "cell_type": "code",
   "execution_count": 23,
   "metadata": {},
   "outputs": [
    {
     "name": "stdout",
     "output_type": "stream",
     "text": [
      "i: 1\n",
      "j: 2\n",
      "i: 2\n",
      "j: 4\n",
      "i: 3\n",
      "j: 6\n"
     ]
    }
   ],
   "source": [
    "### String Formatting ###\n",
    "'''\n",
    "General Structure\n",
    "\n",
    "'String {}'.format(Variable)\n",
    "\n",
    "'''\n",
    "\n",
    "## Using the same example as above, let's make it easier to tell which line\n",
    "## comes from which variable\n",
    "i = 1\n",
    "j = 2\n",
    "for k in range(3):\n",
    "    print('i: {}'.format(i))\n",
    "    i += 1 \n",
    "    print('j: {}'.format(j))\n",
    "    j += 2"
   ]
  },
  {
   "cell_type": "markdown",
   "metadata": {},
   "source": [
    "# Introduction to Odeint (Python)\n",
    "\n",
    "odeint is ODE solver from the 'scipy' module that's commonly used across BioE courses. Below is structured example for the implementation of odeint to help students understand each component and how to use the function. The official documentation can be found [here](https://docs.scipy.org/doc/scipy/reference/generated/scipy.integrate.odeint.html)."
   ]
  },
  {
   "cell_type": "code",
   "execution_count": 1,
   "metadata": {},
   "outputs": [
    {
     "ename": "NameError",
     "evalue": "name 'np' is not defined",
     "output_type": "error",
     "traceback": [
      "\u001b[0;31m---------------------------------------------------------------------------\u001b[0m",
      "\u001b[0;31mNameError\u001b[0m                                 Traceback (most recent call last)",
      "\u001b[0;32m<ipython-input-1-d68b227e191c>\u001b[0m in \u001b[0;36m<module>\u001b[0;34m\u001b[0m\n\u001b[1;32m     13\u001b[0m \u001b[0;34m\u001b[0m\u001b[0m\n\u001b[1;32m     14\u001b[0m \u001b[0;31m# time points\u001b[0m\u001b[0;34m\u001b[0m\u001b[0;34m\u001b[0m\u001b[0;34m\u001b[0m\u001b[0m\n\u001b[0;32m---> 15\u001b[0;31m \u001b[0mt\u001b[0m \u001b[0;34m=\u001b[0m \u001b[0mnp\u001b[0m\u001b[0;34m.\u001b[0m\u001b[0mlinspace\u001b[0m\u001b[0;34m(\u001b[0m\u001b[0;36m0\u001b[0m\u001b[0;34m,\u001b[0m\u001b[0;36m20\u001b[0m\u001b[0;34m)\u001b[0m\u001b[0;34m\u001b[0m\u001b[0;34m\u001b[0m\u001b[0m\n\u001b[0m\u001b[1;32m     16\u001b[0m \u001b[0;34m\u001b[0m\u001b[0m\n\u001b[1;32m     17\u001b[0m \u001b[0;31m# solve ODE\u001b[0m\u001b[0;34m\u001b[0m\u001b[0;34m\u001b[0m\u001b[0;34m\u001b[0m\u001b[0m\n",
      "\u001b[0;31mNameError\u001b[0m: name 'np' is not defined"
     ]
    }
   ],
   "source": [
    "from scipy.integrate import odeint # This allows you to call odeint without the initial module prefix (scipy.odeint)\n",
    "\n",
    "# Define the function that encapsulates the system of ODE's.\n",
    "# This will come in a very specific format as defined by the scipy documentation\n",
    "\n",
    "def model(y,t):\n",
    "    k = 0.3\n",
    "    dydt = -k * y\n",
    "    return dydt # convention to name this dydt\n",
    "\n",
    "# initial condition\n",
    "y0 = 5\n",
    "\n",
    "# time points\n",
    "t = np.linspace(0,20)\n",
    "\n",
    "# solve ODE\n",
    "y = odeint(model,y0,t)\n",
    "\n",
    "# plot results\n",
    "plt.plot(t,y)\n",
    "plt.xlabel('time')\n",
    "plt.ylabel('y(t)')\n",
    "plt.show()"
   ]
  },
  {
   "cell_type": "code",
   "execution_count": null,
   "metadata": {},
   "outputs": [],
   "source": []
  }
 ],
 "metadata": {
  "kernelspec": {
   "display_name": "Python 3",
   "language": "python",
   "name": "python3"
  },
  "language_info": {
   "codemirror_mode": {
    "name": "ipython",
    "version": 3
   },
   "file_extension": ".py",
   "mimetype": "text/x-python",
   "name": "python",
   "nbconvert_exporter": "python",
   "pygments_lexer": "ipython3",
   "version": "3.7.3"
  }
 },
 "nbformat": 4,
 "nbformat_minor": 2
}
