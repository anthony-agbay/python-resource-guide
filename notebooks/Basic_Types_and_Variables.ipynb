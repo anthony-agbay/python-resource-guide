{
  "nbformat": 4,
  "nbformat_minor": 0,
  "metadata": {
    "colab": {
      "name": "Basic Types and Variables.ipynb",
      "provenance": [],
      "collapsed_sections": [],
      "toc_visible": true
    },
    "kernelspec": {
      "name": "python3",
      "display_name": "Python 3"
    }
  },
  "cells": [
    {
      "cell_type": "markdown",
      "metadata": {
        "id": "X-ESLrmlwdZx",
        "colab_type": "text"
      },
      "source": [
        "# 1.0 - Integers and Floats\n",
        "\n",
        "Integers (ints) and floats (floating point) are two ways we represent numbers in Python. Integers represent numbers with no decimal point (E.g. 0, 1, 2, 3) and floats represent any number with a decimal point. Let's see this in action:"
      ]
    },
    {
      "cell_type": "code",
      "metadata": {
        "id": "V8PGby9TxIlX",
        "colab_type": "code",
        "outputId": "69460e3b-c04f-4f69-be33-444dbb5db7dd",
        "colab": {
          "base_uri": "https://localhost:8080/",
          "height": 51
        }
      },
      "source": [
        "# We'll use the 'type()' function to check the type -- useful for debugging!\n",
        "\n",
        "print('1: {}'.format(type(1))) # Will be a integer\n",
        "print('2.0: {}'.format(type(2.0))) # Will be a float"
      ],
      "execution_count": 0,
      "outputs": [
        {
          "output_type": "stream",
          "text": [
            "1: <class 'int'>\n",
            "2.0: <class 'float'>\n"
          ],
          "name": "stdout"
        }
      ]
    },
    {
      "cell_type": "markdown",
      "metadata": {
        "id": "YBY3mutFxhLW",
        "colab_type": "text"
      },
      "source": [
        "**Note on precision and rounding errors**\n",
        "Because of limitations on computer memory, you may run into the problem of rounding errors with floats. Let's see an example:"
      ]
    },
    {
      "cell_type": "code",
      "metadata": {
        "id": "k_j2JefOxthr",
        "colab_type": "code",
        "outputId": "e8898ec0-1dc7-4089-9963-e1a3e5a36721",
        "colab": {
          "base_uri": "https://localhost:8080/",
          "height": 34
        }
      },
      "source": [
        "10.1 == 4.9 + 5.2"
      ],
      "execution_count": 0,
      "outputs": [
        {
          "output_type": "execute_result",
          "data": {
            "text/plain": [
              "False"
            ]
          },
          "metadata": {
            "tags": []
          },
          "execution_count": 14
        }
      ]
    },
    {
      "cell_type": "markdown",
      "metadata": {
        "id": "7RNZ8KfYx6Qr",
        "colab_type": "text"
      },
      "source": [
        "The expression above should evaluate to true! However, because of the precision limit of floating point numbers, there is a small rounding error. Be wary of this problem when trying to assert equality with floats!"
      ]
    },
    {
      "cell_type": "code",
      "metadata": {
        "id": "qeKkgNVCyCAs",
        "colab_type": "code",
        "outputId": "9a562109-7b80-4d1e-ad14-438dec6e85d9",
        "colab": {
          "base_uri": "https://localhost:8080/",
          "height": 34
        }
      },
      "source": [
        "4.9 + 5.2"
      ],
      "execution_count": 0,
      "outputs": [
        {
          "output_type": "execute_result",
          "data": {
            "text/plain": [
              "10.100000000000001"
            ]
          },
          "metadata": {
            "tags": []
          },
          "execution_count": 15
        }
      ]
    },
    {
      "cell_type": "markdown",
      "metadata": {
        "id": "he7KOv8n1E4Q",
        "colab_type": "text"
      },
      "source": [
        "### 1.1 - Operators on Integers and Floats\n",
        "\n",
        "Python comes built in with a set of operations that you can conduct on integers and floats. Below are examples of operations on integers, but the also work with floats. However, be wary of the rounding errors for floats mentioned above."
      ]
    },
    {
      "cell_type": "markdown",
      "metadata": {
        "id": "FMRTrGvojR4R",
        "colab_type": "text"
      },
      "source": [
        "#### 1.1.1 - Addition"
      ]
    },
    {
      "cell_type": "code",
      "metadata": {
        "id": "X27YgaYP1Y6n",
        "colab_type": "code",
        "outputId": "41efe562-1409-4aa8-cf00-cc70299ffcc9",
        "colab": {
          "base_uri": "https://localhost:8080/",
          "height": 34
        }
      },
      "source": [
        "# Integer Addition\n",
        "1 + 2 + 3"
      ],
      "execution_count": 0,
      "outputs": [
        {
          "output_type": "execute_result",
          "data": {
            "text/plain": [
              "6"
            ]
          },
          "metadata": {
            "tags": []
          },
          "execution_count": 16
        }
      ]
    },
    {
      "cell_type": "markdown",
      "metadata": {
        "id": "xwwHGKEVjWeq",
        "colab_type": "text"
      },
      "source": [
        "#### 1.1.2 - Subtraction"
      ]
    },
    {
      "cell_type": "code",
      "metadata": {
        "id": "F1Irk0yv1yOE",
        "colab_type": "code",
        "outputId": "cd182483-14e9-4fa2-a382-0bd11fa7473d",
        "colab": {
          "base_uri": "https://localhost:8080/",
          "height": 34
        }
      },
      "source": [
        "# Integer Subtraction\n",
        "1 - 2"
      ],
      "execution_count": 0,
      "outputs": [
        {
          "output_type": "execute_result",
          "data": {
            "text/plain": [
              "-1"
            ]
          },
          "metadata": {
            "tags": []
          },
          "execution_count": 17
        }
      ]
    },
    {
      "cell_type": "markdown",
      "metadata": {
        "id": "k6MW2o8ljb5h",
        "colab_type": "text"
      },
      "source": [
        "#### 1.1.3 - Division"
      ]
    },
    {
      "cell_type": "code",
      "metadata": {
        "id": "_xh-9f6h11SP",
        "colab_type": "code",
        "outputId": "f8b362ca-5be8-4d85-a28e-c0ba1e867b34",
        "colab": {
          "base_uri": "https://localhost:8080/",
          "height": 34
        }
      },
      "source": [
        "# Integer Division\n",
        "4 / 2"
      ],
      "execution_count": 0,
      "outputs": [
        {
          "output_type": "execute_result",
          "data": {
            "text/plain": [
              "2.0"
            ]
          },
          "metadata": {
            "tags": []
          },
          "execution_count": 55
        }
      ]
    },
    {
      "cell_type": "markdown",
      "metadata": {
        "id": "3eCUCJo9iXjc",
        "colab_type": "text"
      },
      "source": [
        "**Note:** Dividing by an interger results in a float! To get an integer output, you would either need to cast/convert it into an int (see later section) or using floor division `//`. This results in the largest whole number divisor."
      ]
    },
    {
      "cell_type": "markdown",
      "metadata": {
        "id": "bZJ3LvZdjefa",
        "colab_type": "text"
      },
      "source": [
        "#### 1.1.4 -  Floor Division"
      ]
    },
    {
      "cell_type": "code",
      "metadata": {
        "id": "etT2hO7XiXC0",
        "colab_type": "code",
        "outputId": "8e746d0e-c263-490b-ea80-01428b088bd7",
        "colab": {
          "base_uri": "https://localhost:8080/",
          "height": 34
        }
      },
      "source": [
        "# Integer Floor Division\n",
        "4 // 2"
      ],
      "execution_count": 0,
      "outputs": [
        {
          "output_type": "execute_result",
          "data": {
            "text/plain": [
              "2"
            ]
          },
          "metadata": {
            "tags": []
          },
          "execution_count": 60
        }
      ]
    },
    {
      "cell_type": "code",
      "metadata": {
        "id": "DL-2U_mlixEW",
        "colab_type": "code",
        "outputId": "95156b01-8c7a-49eb-ac3f-b1adddf04201",
        "colab": {
          "base_uri": "https://localhost:8080/",
          "height": 34
        }
      },
      "source": [
        "# Integer Floor Divison with Remainder\n",
        "5 // 2"
      ],
      "execution_count": 0,
      "outputs": [
        {
          "output_type": "execute_result",
          "data": {
            "text/plain": [
              "2"
            ]
          },
          "metadata": {
            "tags": []
          },
          "execution_count": 61
        }
      ]
    },
    {
      "cell_type": "markdown",
      "metadata": {
        "id": "xh5lt9G2jkCD",
        "colab_type": "text"
      },
      "source": [
        "#### 1.1.5 - Multiplication"
      ]
    },
    {
      "cell_type": "code",
      "metadata": {
        "id": "52pXxUw516Am",
        "colab_type": "code",
        "outputId": "83b075c3-1a2a-4a0d-cfe1-eb30fc63c3a1",
        "colab": {
          "base_uri": "https://localhost:8080/",
          "height": 34
        }
      },
      "source": [
        "# Integer Multiplication\n",
        "4 * 2"
      ],
      "execution_count": 0,
      "outputs": [
        {
          "output_type": "execute_result",
          "data": {
            "text/plain": [
              "8"
            ]
          },
          "metadata": {
            "tags": []
          },
          "execution_count": 19
        }
      ]
    },
    {
      "cell_type": "markdown",
      "metadata": {
        "id": "arf0oskI2IWl",
        "colab_type": "text"
      },
      "source": [
        "#### 1.1.6 - Powers\n",
        "In most cases, you may be used to `^` as being the symbol to indicate raising a number to a power. Howver, this symbol is reserved for a different operation. Instead, you need to use `**`."
      ]
    },
    {
      "cell_type": "code",
      "metadata": {
        "id": "Oym0NvsY2jMB",
        "colab_type": "code",
        "outputId": "d6f13198-8861-4d2e-99bf-6b208960ae70",
        "colab": {
          "base_uri": "https://localhost:8080/",
          "height": 34
        }
      },
      "source": [
        "# 2^3 This is not how you want to raise a number to a power!\n",
        "\n",
        "2**3"
      ],
      "execution_count": 0,
      "outputs": [
        {
          "output_type": "execute_result",
          "data": {
            "text/plain": [
              "8"
            ]
          },
          "metadata": {
            "tags": []
          },
          "execution_count": 20
        }
      ]
    },
    {
      "cell_type": "markdown",
      "metadata": {
        "id": "fQ_S-m2Y2tWO",
        "colab_type": "text"
      },
      "source": [
        "#### 1.1.7 - Modulo\n",
        "\n",
        "There are some cases where you may want to use the modulo operator (`%`). This operator returns the remainder after dividing the first number by the second"
      ]
    },
    {
      "cell_type": "code",
      "metadata": {
        "id": "kQPzbKlN23Oe",
        "colab_type": "code",
        "outputId": "a5650de1-974b-4efe-815a-e848c0422a1e",
        "colab": {
          "base_uri": "https://localhost:8080/",
          "height": 34
        }
      },
      "source": [
        "10%4"
      ],
      "execution_count": 0,
      "outputs": [
        {
          "output_type": "execute_result",
          "data": {
            "text/plain": [
              "2"
            ]
          },
          "metadata": {
            "tags": []
          },
          "execution_count": 21
        }
      ]
    },
    {
      "cell_type": "markdown",
      "metadata": {
        "id": "aIzzuBlb-XdL",
        "colab_type": "text"
      },
      "source": [
        "### 1.2 - Order of Operations\n",
        "\n",
        "The order of operations follows the same rules as you're used to:\n",
        "\n",
        "1. `**`\n",
        "2. `*`, `/`, `%`, `//`\n",
        "3. `+`, `-`\n",
        "\n",
        "To create complex expressions and control the order of operations, remember to use parentheses:"
      ]
    },
    {
      "cell_type": "code",
      "metadata": {
        "id": "WC9WOIUa--Sm",
        "colab_type": "code",
        "outputId": "e592326e-b0ad-4b25-f4d3-c09cc6de862f",
        "colab": {
          "base_uri": "https://localhost:8080/",
          "height": 51
        }
      },
      "source": [
        "a = 2 + 1 / 4 + 2 * 4 + 3\n",
        "b = (2 + 1) / ((4 + 2) * 4 + 3)\n",
        "print(a)\n",
        "print(b)"
      ],
      "execution_count": 0,
      "outputs": [
        {
          "output_type": "stream",
          "text": [
            "13.25\n",
            "0.1111111111111111\n"
          ],
          "name": "stdout"
        }
      ]
    },
    {
      "cell_type": "markdown",
      "metadata": {
        "id": "KWbVgLNKwZxI",
        "colab_type": "text"
      },
      "source": [
        "# 2.0 - Strings\n",
        "\n",
        "Strings are another basic type that you'll encounter fairly often in Python programming. In addition to representing words, they may be used to store information or as a key in a dictionary (more on this in a later module). Let's see how we can construct strings and other methods to use on them:"
      ]
    },
    {
      "cell_type": "markdown",
      "metadata": {
        "id": "NHDjPwWK9211",
        "colab_type": "text"
      },
      "source": [
        "### 2.1 - String Construction"
      ]
    },
    {
      "cell_type": "markdown",
      "metadata": {
        "id": "_MdmJnbIyvy1",
        "colab_type": "text"
      },
      "source": [
        "Strings are defined by wrapping text in single or double quotes, but you must stay consistent. Jupyter Notebooks and Google Colab have a handy syntax highlighting feature that makes it easy to see what is a string and what isn't."
      ]
    },
    {
      "cell_type": "code",
      "metadata": {
        "id": "RQdsCxjCyuqe",
        "colab_type": "code",
        "colab": {}
      },
      "source": [
        "string_a = 'Single quote string'\n",
        "string_b = \"Double-quote string\""
      ],
      "execution_count": 0,
      "outputs": []
    },
    {
      "cell_type": "code",
      "metadata": {
        "id": "MoclYl7-y6hd",
        "colab_type": "code",
        "outputId": "f2be0fb4-2a2c-4794-d053-f9b275e5207b",
        "colab": {
          "base_uri": "https://localhost:8080/",
          "height": 130
        }
      },
      "source": [
        "string_error = \"This is not a valid string' # Should only use on or the other!"
      ],
      "execution_count": 0,
      "outputs": [
        {
          "output_type": "error",
          "ename": "SyntaxError",
          "evalue": "ignored",
          "traceback": [
            "\u001b[0;36m  File \u001b[0;32m\"<ipython-input-24-c94016865b1e>\"\u001b[0;36m, line \u001b[0;32m1\u001b[0m\n\u001b[0;31m    string_error = \"This is not a valid string' # Should only use on or the other!\u001b[0m\n\u001b[0m                                                                                  ^\u001b[0m\n\u001b[0;31mSyntaxError\u001b[0m\u001b[0;31m:\u001b[0m EOL while scanning string literal\n"
          ]
        }
      ]
    },
    {
      "cell_type": "markdown",
      "metadata": {
        "id": "zEDbk4wZzLFs",
        "colab_type": "text"
      },
      "source": [
        "However, you *can* nest the opposite quote within the other -- this is how you can get single quote apostraphes into strings:"
      ]
    },
    {
      "cell_type": "code",
      "metadata": {
        "id": "a1EFturlzSjo",
        "colab_type": "code",
        "colab": {}
      },
      "source": [
        "string_c = \"Isn't bioengineering great?\""
      ],
      "execution_count": 0,
      "outputs": []
    },
    {
      "cell_type": "markdown",
      "metadata": {
        "id": "msqI3Ega97hM",
        "colab_type": "text"
      },
      "source": [
        "### 2.2 - Splitting Strings"
      ]
    },
    {
      "cell_type": "markdown",
      "metadata": {
        "id": "sCYn_Vk88vTt",
        "colab_type": "text"
      },
      "source": [
        "Sometimes, you may want to split strings into the individual words (removes spaces, new lines, tabs, and commas):"
      ]
    },
    {
      "cell_type": "code",
      "metadata": {
        "id": "u1mfXSxm81MO",
        "colab_type": "code",
        "outputId": "059a2b6d-5c80-4f61-e0fa-c6cd99168657",
        "colab": {
          "base_uri": "https://localhost:8080/",
          "height": 187
        }
      },
      "source": [
        "\"The answer to life, the universe, and everything is 42\".split()"
      ],
      "execution_count": 0,
      "outputs": [
        {
          "output_type": "execute_result",
          "data": {
            "text/plain": [
              "['The',\n",
              " 'answer',\n",
              " 'to',\n",
              " 'life,',\n",
              " 'the',\n",
              " 'universe,',\n",
              " 'and',\n",
              " 'everything',\n",
              " 'is',\n",
              " '42']"
            ]
          },
          "metadata": {
            "tags": []
          },
          "execution_count": 26
        }
      ]
    },
    {
      "cell_type": "markdown",
      "metadata": {
        "id": "nGKJE4QqZcqs",
        "colab_type": "text"
      },
      "source": [
        "You can also split text on a given separator."
      ]
    },
    {
      "cell_type": "code",
      "metadata": {
        "id": "Ga2C6CAWZWw4",
        "colab_type": "code",
        "outputId": "ce865afd-4a11-4241-de43-c6a49671b1b4",
        "colab": {
          "base_uri": "https://localhost:8080/",
          "height": 34
        }
      },
      "source": [
        "\"This-is-a-test\".split('-')"
      ],
      "execution_count": 0,
      "outputs": [
        {
          "output_type": "execute_result",
          "data": {
            "text/plain": [
              "['This', 'is', 'a', 'test']"
            ]
          },
          "metadata": {
            "tags": []
          },
          "execution_count": 27
        }
      ]
    },
    {
      "cell_type": "markdown",
      "metadata": {
        "id": "07tetsJt9_Jr",
        "colab_type": "text"
      },
      "source": [
        "### 2.3 - Concatenating Strings"
      ]
    },
    {
      "cell_type": "markdown",
      "metadata": {
        "id": "4HlSo2lC9E35",
        "colab_type": "text"
      },
      "source": [
        "Unlike splitting strings, there are many ways to join strings together."
      ]
    },
    {
      "cell_type": "code",
      "metadata": {
        "id": "yGfV80sc9ebD",
        "colab_type": "code",
        "outputId": "b64881de-f5dd-461f-cd6a-9d980900ace6",
        "colab": {
          "base_uri": "https://localhost:8080/",
          "height": 34
        }
      },
      "source": [
        "# Joining strings using \"+\"\n",
        "\"Hello \" + \"World\""
      ],
      "execution_count": 0,
      "outputs": [
        {
          "output_type": "execute_result",
          "data": {
            "text/plain": [
              "'Hello World'"
            ]
          },
          "metadata": {
            "tags": []
          },
          "execution_count": 28
        }
      ]
    },
    {
      "cell_type": "code",
      "metadata": {
        "id": "TUNbsbVS9mHb",
        "colab_type": "code",
        "outputId": "03d5712b-5d0b-4717-f9df-24540f37910f",
        "colab": {
          "base_uri": "https://localhost:8080/",
          "height": 34
        }
      },
      "source": [
        "# Joining strings using str.join()\n",
        "sep = \" \" # Defines separator as a space\n",
        "sep.join(['Hello', 'World']) # Pass in a list of strings to str.join()"
      ],
      "execution_count": 0,
      "outputs": [
        {
          "output_type": "execute_result",
          "data": {
            "text/plain": [
              "'Hello World'"
            ]
          },
          "metadata": {
            "tags": []
          },
          "execution_count": 29
        }
      ]
    },
    {
      "cell_type": "code",
      "metadata": {
        "id": "_Wt0uwUF_gRX",
        "colab_type": "code",
        "outputId": "4b4f0ab9-8b22-4b50-c961-8cac98bdee67",
        "colab": {
          "base_uri": "https://localhost:8080/",
          "height": 34
        }
      },
      "source": [
        "# Multiplying Strings - Repeating outpout\n",
        "'Hello World '*5"
      ],
      "execution_count": 0,
      "outputs": [
        {
          "output_type": "execute_result",
          "data": {
            "text/plain": [
              "'Hello World Hello World Hello World Hello World Hello World '"
            ]
          },
          "metadata": {
            "tags": []
          },
          "execution_count": 30
        }
      ]
    },
    {
      "cell_type": "markdown",
      "metadata": {
        "id": "a1_Z0-O1-EKH",
        "colab_type": "text"
      },
      "source": [
        "#### Optional Exercise: String Concatenation"
      ]
    },
    {
      "cell_type": "code",
      "metadata": {
        "id": "Qukz3kQn9ixS",
        "colab_type": "code",
        "outputId": "b94fc7cf-5746-4821-8927-bcc8d136d3f8",
        "colab": {
          "base_uri": "https://localhost:8080/",
          "height": 198
        }
      },
      "source": [
        "## String Concatenation Test (Optional)\n",
        "def stringcat():\n",
        "    '''\n",
        "    Fill out below so that this function returns \"Stanford BioE\"\n",
        "    '''\n",
        "    answer = None\n",
        "    return(None)\n",
        "\n",
        "### Eval (DO NOT EDIT)\n",
        "assert stringcat == 'Stanford BioE', \"Don't worry, please try again!\""
      ],
      "execution_count": 0,
      "outputs": [
        {
          "output_type": "error",
          "ename": "AssertionError",
          "evalue": "ignored",
          "traceback": [
            "\u001b[0;31m---------------------------------------------------------------------------\u001b[0m",
            "\u001b[0;31mAssertionError\u001b[0m                            Traceback (most recent call last)",
            "\u001b[0;32m<ipython-input-31-b13ebf48e568>\u001b[0m in \u001b[0;36m<module>\u001b[0;34m()\u001b[0m\n\u001b[1;32m      8\u001b[0m \u001b[0;34m\u001b[0m\u001b[0m\n\u001b[1;32m      9\u001b[0m \u001b[0;31m### Eval (DO NOT EDIT)\u001b[0m\u001b[0;34m\u001b[0m\u001b[0;34m\u001b[0m\u001b[0;34m\u001b[0m\u001b[0m\n\u001b[0;32m---> 10\u001b[0;31m \u001b[0;32massert\u001b[0m \u001b[0mstringcat\u001b[0m \u001b[0;34m==\u001b[0m \u001b[0;34m'Stanford BioE'\u001b[0m\u001b[0;34m,\u001b[0m \u001b[0;34m\"Don't worry, please try again!\"\u001b[0m\u001b[0;34m\u001b[0m\u001b[0;34m\u001b[0m\u001b[0m\n\u001b[0m",
            "\u001b[0;31mAssertionError\u001b[0m: Don't worry, please try again!"
          ]
        }
      ]
    },
    {
      "cell_type": "markdown",
      "metadata": {
        "id": "AI_9fdY1AIfu",
        "colab_type": "text"
      },
      "source": [
        "### 2.4 - String Lengths\n",
        "\n",
        "Sometimes, you just need to know how many characters the string is."
      ]
    },
    {
      "cell_type": "code",
      "metadata": {
        "id": "3pJsVgasAMeQ",
        "colab_type": "code",
        "outputId": "a23e6555-abdb-4551-a3af-8a2e285c727b",
        "colab": {
          "base_uri": "https://localhost:8080/",
          "height": 34
        }
      },
      "source": [
        "## Getting the \"length of the string\"\n",
        "len(\"Hello World\")"
      ],
      "execution_count": 0,
      "outputs": [
        {
          "output_type": "execute_result",
          "data": {
            "text/plain": [
              "11"
            ]
          },
          "metadata": {
            "tags": []
          },
          "execution_count": 32
        }
      ]
    },
    {
      "cell_type": "markdown",
      "metadata": {
        "id": "dtNiUsTXAour",
        "colab_type": "text"
      },
      "source": [
        "### 2.5 - Substrings and String Splicing\n",
        "\n",
        "Getting a specific piece of a string is also a common task in Python. This process is called \"splicing,\" and is also the same as how we work with lists (more on that in another module).\n",
        "\n",
        "Strings can be thought of as a 0-indexed sequence of characters:"
      ]
    },
    {
      "cell_type": "code",
      "metadata": {
        "id": "Q7nUlBUqAn7N",
        "colab_type": "code",
        "outputId": "5d5b2564-7861-4941-a4c2-88e81a6686ab",
        "colab": {
          "base_uri": "https://localhost:8080/",
          "height": 34
        }
      },
      "source": [
        "my_string = \"Hello World\"\n",
        "\n",
        "# To select a specific character, slice into the string using brackets and its index\n",
        "my_string[0]"
      ],
      "execution_count": 0,
      "outputs": [
        {
          "output_type": "execute_result",
          "data": {
            "text/plain": [
              "'H'"
            ]
          },
          "metadata": {
            "tags": []
          },
          "execution_count": 33
        }
      ]
    },
    {
      "cell_type": "code",
      "metadata": {
        "id": "cffkJjcnBU3M",
        "colab_type": "code",
        "outputId": "c155d2c0-411d-41ce-e882-ba32a6213e46",
        "colab": {
          "base_uri": "https://localhost:8080/",
          "height": 34
        }
      },
      "source": [
        "# To select a range of characters, you need the start (inclusive) and stop index (exclusive)\n",
        "my_string[0:5]"
      ],
      "execution_count": 0,
      "outputs": [
        {
          "output_type": "execute_result",
          "data": {
            "text/plain": [
              "'Hello'"
            ]
          },
          "metadata": {
            "tags": []
          },
          "execution_count": 34
        }
      ]
    },
    {
      "cell_type": "code",
      "metadata": {
        "id": "2P6PBOCWBqXr",
        "colab_type": "code",
        "outputId": "96138758-f67a-4574-a2eb-87d083103864",
        "colab": {
          "base_uri": "https://localhost:8080/",
          "height": 34
        }
      },
      "source": [
        "# You can even slice from the middle\n",
        "my_string[2:7]"
      ],
      "execution_count": 0,
      "outputs": [
        {
          "output_type": "execute_result",
          "data": {
            "text/plain": [
              "'llo W'"
            ]
          },
          "metadata": {
            "tags": []
          },
          "execution_count": 35
        }
      ]
    },
    {
      "cell_type": "code",
      "metadata": {
        "id": "vHWXuqGeCD59",
        "colab_type": "code",
        "outputId": "f551220e-623d-4383-f745-3a57f5efa462",
        "colab": {
          "base_uri": "https://localhost:8080/",
          "height": 34
        }
      },
      "source": [
        "# Use [Start::] to slice everything starting for the index\n",
        "my_string[2::]"
      ],
      "execution_count": 0,
      "outputs": [
        {
          "output_type": "execute_result",
          "data": {
            "text/plain": [
              "'llo World'"
            ]
          },
          "metadata": {
            "tags": []
          },
          "execution_count": 36
        }
      ]
    },
    {
      "cell_type": "code",
      "metadata": {
        "id": "UY_l9hyzCHsh",
        "colab_type": "code",
        "outputId": "762e47af-6360-46b6-83c3-9571dbf0119a",
        "colab": {
          "base_uri": "https://localhost:8080/",
          "height": 34
        }
      },
      "source": [
        "# You can also slice backwards using negative numbers (-1 is the last index)\n",
        "my_string[-5::]"
      ],
      "execution_count": 0,
      "outputs": [
        {
          "output_type": "execute_result",
          "data": {
            "text/plain": [
              "'World'"
            ]
          },
          "metadata": {
            "tags": []
          },
          "execution_count": 37
        }
      ]
    },
    {
      "cell_type": "markdown",
      "metadata": {
        "id": "J8nAz949Co5F",
        "colab_type": "text"
      },
      "source": [
        "### 2.6 - Other String Methods"
      ]
    },
    {
      "cell_type": "code",
      "metadata": {
        "id": "ey7kzUOsCq2y",
        "colab_type": "code",
        "outputId": "5e56ac9f-9292-4561-9ac9-a41e6a441c87",
        "colab": {
          "base_uri": "https://localhost:8080/",
          "height": 34
        }
      },
      "source": [
        "# Look for the index that a substring is found:\n",
        "\n",
        "str_to_find = 'World'\n",
        "my_string.find(str_to_find) #my_string = 'Hello World'"
      ],
      "execution_count": 0,
      "outputs": [
        {
          "output_type": "execute_result",
          "data": {
            "text/plain": [
              "6"
            ]
          },
          "metadata": {
            "tags": []
          },
          "execution_count": 38
        }
      ]
    },
    {
      "cell_type": "code",
      "metadata": {
        "id": "uPoYM_uiC0Hm",
        "colab_type": "code",
        "outputId": "e10fe2ab-6d10-4822-c93f-45ac39aceedc",
        "colab": {
          "base_uri": "https://localhost:8080/",
          "height": 34
        }
      },
      "source": [
        "# Replace substrings with new substrings\n",
        "\n",
        "my_string = 'The answer to life, the universe, and everything is 24.' # Incorrect Answer\n",
        "old_term = '24'\n",
        "new_term = '42'\n",
        "my_string.replace(old_term, new_term)"
      ],
      "execution_count": 0,
      "outputs": [
        {
          "output_type": "execute_result",
          "data": {
            "text/plain": [
              "'The answer to life, the universe, and everything is 42.'"
            ]
          },
          "metadata": {
            "tags": []
          },
          "execution_count": 39
        }
      ]
    },
    {
      "cell_type": "markdown",
      "metadata": {
        "id": "_q7SOzBgY9jH",
        "colab_type": "text"
      },
      "source": [
        "### Optional Exercise: Putting Everything Together\n",
        "\n",
        "To test your understanding of string methods, please solve the following exercise. Once you've filled in a solution, test it by running the assertion statement below it\n",
        "\n",
        "Given the string below, extract out 'hello' using methods introduced above. "
      ]
    },
    {
      "cell_type": "code",
      "metadata": {
        "id": "nw5LI-mRY8JI",
        "colab_type": "code",
        "colab": {}
      },
      "source": [
        "search_string = None\n",
        "test_string = 'Bioengineering is awesome. I would say hello to anyone I see.'\n",
        "\n",
        "start_index = None # Hint: where should you start slicing\n",
        "end_index = None\n",
        "answer = None"
      ],
      "execution_count": 0,
      "outputs": []
    },
    {
      "cell_type": "code",
      "metadata": {
        "id": "wN2qhIBta295",
        "colab_type": "code",
        "outputId": "b7c2dc18-1ba9-4fc6-caff-dac2f6e7d4e9",
        "colab": {
          "base_uri": "https://localhost:8080/",
          "height": 164
        }
      },
      "source": [
        "assert answer == 'hello', \"Close! Try again\""
      ],
      "execution_count": 0,
      "outputs": [
        {
          "output_type": "error",
          "ename": "AssertionError",
          "evalue": "ignored",
          "traceback": [
            "\u001b[0;31m---------------------------------------------------------------------------\u001b[0m",
            "\u001b[0;31mAssertionError\u001b[0m                            Traceback (most recent call last)",
            "\u001b[0;32m<ipython-input-41-23913cfd425b>\u001b[0m in \u001b[0;36m<module>\u001b[0;34m()\u001b[0m\n\u001b[0;32m----> 1\u001b[0;31m \u001b[0;32massert\u001b[0m \u001b[0manswer\u001b[0m \u001b[0;34m==\u001b[0m \u001b[0;34m'hello'\u001b[0m\u001b[0;34m,\u001b[0m \u001b[0;34m\"Close! Try again\"\u001b[0m\u001b[0;34m\u001b[0m\u001b[0;34m\u001b[0m\u001b[0m\n\u001b[0m",
            "\u001b[0;31mAssertionError\u001b[0m: Close! Try again"
          ]
        }
      ]
    },
    {
      "cell_type": "markdown",
      "metadata": {
        "id": "dH0Pno9TbQiR",
        "colab_type": "text"
      },
      "source": [
        "##### Solution"
      ]
    },
    {
      "cell_type": "code",
      "metadata": {
        "id": "mxSDAMcdbSOQ",
        "colab_type": "code",
        "colab": {}
      },
      "source": [
        "search_string = 'hello' # Store string here\n",
        "test_string = 'Bioengineering is awesome. I would say hello to anyone I see.'\n",
        "\n",
        "start_index = test_string.find(search_string) # Use str.find to get start index\n",
        "end_index = start_index + len(search_string) # Get len to know end index\n",
        "answer = test_string[start_index:end_index]\n",
        "assert answer == 'hello', \"Close! Try again\""
      ],
      "execution_count": 0,
      "outputs": []
    },
    {
      "cell_type": "markdown",
      "metadata": {
        "id": "qN1un1w8cEIk",
        "colab_type": "text"
      },
      "source": [
        "# 3.0 - Variables\n",
        "\n",
        "In Python, variables are the way we can store values or objects for later use. You've already seen variables used throughout this guide; whenever you saw a line of the following format:\n",
        "\n",
        "`name = {value}`\n",
        "\n",
        "**Notes on Variable Names**  \n",
        "There are different style guides on what to name variables, but the main advice would be to make it descriptive. `a` may seem fine at first, but it may be harder to understand what it is storing if it were used in more complex situations.\n",
        "\n",
        "The process of associating a variable with some value is known as declaring or instantiating the variable. Variables can end up storing anything, from the basic types we saw here to even more complex objects you'll see in future modules."
      ]
    },
    {
      "cell_type": "code",
      "metadata": {
        "id": "X4K9DFm3cwFF",
        "colab_type": "code",
        "colab": {}
      },
      "source": [
        "a = 4\n",
        "b = 'This is a string'"
      ],
      "execution_count": 0,
      "outputs": []
    },
    {
      "cell_type": "markdown",
      "metadata": {
        "id": "P1M9fCuYdPQh",
        "colab_type": "text"
      },
      "source": [
        "As you saw in previous modules, becuase cells in notebooks can be ran in any order, you need to be careful about where you declare your variable and when you run that cell. A variable **must** be declared in a cell and that cell must be ran before another cell can reference it. Otherwise, you will recieve an error that will halt your code."
      ]
    },
    {
      "cell_type": "code",
      "metadata": {
        "id": "gewT3h-UdnKO",
        "colab_type": "code",
        "outputId": "ff029dce-dbe9-43e7-c661-4e8916854ed4",
        "colab": {
          "base_uri": "https://localhost:8080/",
          "height": 164
        }
      },
      "source": [
        "print(variable_b) # This variable hasn't been referenced"
      ],
      "execution_count": 0,
      "outputs": [
        {
          "output_type": "error",
          "ename": "NameError",
          "evalue": "ignored",
          "traceback": [
            "\u001b[0;31m---------------------------------------------------------------------------\u001b[0m",
            "\u001b[0;31mNameError\u001b[0m                                 Traceback (most recent call last)",
            "\u001b[0;32m<ipython-input-43-98db657eb3b0>\u001b[0m in \u001b[0;36m<module>\u001b[0;34m()\u001b[0m\n\u001b[0;32m----> 1\u001b[0;31m \u001b[0mprint\u001b[0m\u001b[0;34m(\u001b[0m\u001b[0mvariable_b\u001b[0m\u001b[0;34m)\u001b[0m \u001b[0;31m# This variable hasn't been referenced\u001b[0m\u001b[0;34m\u001b[0m\u001b[0;34m\u001b[0m\u001b[0m\n\u001b[0m",
            "\u001b[0;31mNameError\u001b[0m: name 'variable_b' is not defined"
          ]
        }
      ]
    },
    {
      "cell_type": "markdown",
      "metadata": {
        "id": "QATPKxjQeiGL",
        "colab_type": "text"
      },
      "source": [
        "**Notes on Variables in Python Notebooks**  \n",
        "One common bug specific to Python notebooks is mistakenly resuing variables defined in previous cells. Remember: any variables that you've previously used and have ran will remain present until you restart the notebook, so be mindful to not overwite or use old variable names.\n",
        "\n",
        "To check what variables have been declared, Python notebooks have a convenient function:"
      ]
    },
    {
      "cell_type": "code",
      "metadata": {
        "id": "d_YpPJbofBsa",
        "colab_type": "code",
        "outputId": "a8c0fd58-f4b3-4743-879e-e25685ad3a7d",
        "colab": {
          "base_uri": "https://localhost:8080/",
          "height": 323
        }
      },
      "source": [
        "whos"
      ],
      "execution_count": 0,
      "outputs": [
        {
          "output_type": "stream",
          "text": [
            "Variable        Type        Data/Info\n",
            "-------------------------------------\n",
            "a               int         4\n",
            "answer          NoneType    None\n",
            "b               str         This is a string\n",
            "end_index       NoneType    None\n",
            "my_string       str         The answer to life, the u<...>se, and everything is 24.\n",
            "new_term        str         42\n",
            "old_term        str         24\n",
            "search_string   NoneType    None\n",
            "sep             str          \n",
            "start_index     NoneType    None\n",
            "str_to_find     str         World\n",
            "string_a        str         Single quote string\n",
            "string_b        str         Double-quote string\n",
            "string_c        str         Isn't bioengineering great?\n",
            "stringcat       function    <function stringcat at 0x7fa8a46c8d08>\n",
            "test_string     str         Bioengineering is awesome<...>ay hello to anyone I see.\n"
          ],
          "name": "stdout"
        }
      ]
    },
    {
      "cell_type": "markdown",
      "metadata": {
        "id": "eCFFhPV2g55h",
        "colab_type": "text"
      },
      "source": [
        "# 4.0 Type Conversions\n",
        "\n",
        "Now that you have seen some of the basic Python types and can declare variables, what if you wanted to change the variable type? For instance, what if you want to to change a string that say `'42'` to the integer `42`? This can be done easily using type conversions:"
      ]
    },
    {
      "cell_type": "code",
      "metadata": {
        "id": "0hBvAKWkhOyZ",
        "colab_type": "code",
        "outputId": "1f9893a2-caef-46b4-d62d-e6806e67384b",
        "colab": {
          "base_uri": "https://localhost:8080/",
          "height": 34
        }
      },
      "source": [
        "str_42 = '42'\n",
        "type(str_42) # Since it was originally declared as a string, the type is a string"
      ],
      "execution_count": 0,
      "outputs": [
        {
          "output_type": "execute_result",
          "data": {
            "text/plain": [
              "str"
            ]
          },
          "metadata": {
            "tags": []
          },
          "execution_count": 45
        }
      ]
    },
    {
      "cell_type": "code",
      "metadata": {
        "id": "IkbSKx8XhWuP",
        "colab_type": "code",
        "outputId": "8d93a483-0af7-416e-a8b7-303f07b35d7e",
        "colab": {
          "base_uri": "https://localhost:8080/",
          "height": 34
        }
      },
      "source": [
        "# We convert from a string to an integer\n",
        "int_42 = int(str_42)  #Note: This doesn't change the type of str_42\n",
        "type(int_42)"
      ],
      "execution_count": 0,
      "outputs": [
        {
          "output_type": "execute_result",
          "data": {
            "text/plain": [
              "int"
            ]
          },
          "metadata": {
            "tags": []
          },
          "execution_count": 49
        }
      ]
    },
    {
      "cell_type": "code",
      "metadata": {
        "id": "RGjnSt0Sh5Ce",
        "colab_type": "code",
        "outputId": "694df2a7-4435-4f90-f03e-d289b5053c89",
        "colab": {
          "base_uri": "https://localhost:8080/",
          "height": 34
        }
      },
      "source": [
        "# Converting from a float to an int takes the floor (rounds down)\n",
        "int(42.9)"
      ],
      "execution_count": 0,
      "outputs": [
        {
          "output_type": "execute_result",
          "data": {
            "text/plain": [
              "42"
            ]
          },
          "metadata": {
            "tags": []
          },
          "execution_count": 50
        }
      ]
    },
    {
      "cell_type": "markdown",
      "metadata": {
        "id": "zps65Ptdfi72",
        "colab_type": "text"
      },
      "source": [
        "\n",
        "---\n",
        "[Return to homepage](https://anthony-agbay.github.io/bioe-python-guide/) "
      ]
    }
  ]
}