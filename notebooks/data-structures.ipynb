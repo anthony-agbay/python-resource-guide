{
 "cells": [
  {
   "cell_type": "markdown",
   "metadata": {},
   "source": [
    "# Data Structures: Lists, Dictionaries, Sets, and Tuples\n",
    "\n",
    "We've seen how we can store individual numbers and strings in Python. However, what if you want to store multiple numbers or strings at the same time? Python has three main ways of storing a collection of items: Lists, Dictionaries, and Sets. Each of these collection types provide unique functionality that you can use to do complex computations! Let's see each of them in action."
   ]
  },
  {
   "cell_type": "markdown",
   "metadata": {},
   "source": [
    "## 1.0 - Lists\n",
    "\n",
    "Lists are the most basic data collection type and essentially store individual itmes, one after the other."
   ]
  },
  {
   "cell_type": "code",
   "execution_count": 33,
   "metadata": {},
   "outputs": [
    {
     "name": "stdout",
     "output_type": "stream",
     "text": [
      "List of integers: [1, 2, 3]\n",
      "List of Mixed Types: ['The', 'answer', 'universe', 42]\n"
     ]
    }
   ],
   "source": [
    "# Initializing an Empty List - Both of these are equivalent\n",
    "list1 = [] \n",
    "list2 = list()\n",
    "\n",
    "list3 = [1, 2, 3]\n",
    "print(\"List of integers:\", list3)\n",
    "\n",
    "# Lists can also store items of different types!\n",
    "list4 = ['The', 'answer', 'universe', 42]\n",
    "print(\"List of Mixed Types:\", list4)"
   ]
  },
  {
   "cell_type": "markdown",
   "metadata": {},
   "source": [
    "To get specific items in the list, you \"index\" into the list. Each item is given a specific index, starting at 0 (this is what it means to be 0-indexed). \n",
    "\n",
    "**For those who have experience with MATLAB, make sure to remember 0-indexing, as MATLAB starts indexing at 1!**"
   ]
  },
  {
   "cell_type": "code",
   "execution_count": 37,
   "metadata": {},
   "outputs": [
    {
     "name": "stdout",
     "output_type": "stream",
     "text": [
      "Item 1: The\n",
      "Item 2: answer\n",
      "Last Item: 42\n",
      "Second-to-last Item: universe\n",
      "Middle items: ['answer', 'universe']\n",
      "Everything After Start: ['answer', 'universe', 42]\n",
      "Everyting Before End: ['The', 'answer', 'universe']\n",
      "Length of List 4: 4\n"
     ]
    }
   ],
   "source": [
    "# To index into a list, use bracket notation\n",
    "print('Item 1:', list4[0])\n",
    "print('Item 2:', list4[1])\n",
    "\n",
    "# But you can also index backwards by introducing a negative sign\n",
    "print('Last Item:', list4[-1])\n",
    "print('Second-to-last Item:', list4[-2])\n",
    "\n",
    "# Getting Multiple Items from a list using :slicing\"\n",
    "start = 1 # Index of start of slice\n",
    "end = 3 # Index of end of slice\n",
    "\n",
    "print('Middle items:', list4[start:end]) #Get items from index start to end - 1\n",
    "print('Everything After Start:', list4[start:]) # 'start' to end of list\n",
    "print('Everyting Before End:', list4[:end]) # everyting up through 'end'\n",
    "\n",
    "# Getting the Length\n",
    "print(\"Length of List 4:\", len(list4)) # Should be 4!"
   ]
  },
  {
   "cell_type": "markdown",
   "metadata": {},
   "source": [
    "You may be thinking that this looks similar to how we worked with strings -- that's exactly true! You can think of strings as a list where each item is an individual character (See the [Basic Python Types module](https://anthony-agbay.github.io/python-resource-guide/pages/basic-types-variables.html) for a refresher on strings).\n",
    "\n",
    "Now that we've learned how to create lists and get things from them, what about modifying them? How can we add items to a list or remove them from a list?"
   ]
  },
  {
   "cell_type": "code",
   "execution_count": 27,
   "metadata": {},
   "outputs": [
    {
     "name": "stdout",
     "output_type": "stream",
     "text": [
      "Append: [1, 2, 3, 4, 5, 6]\n",
      "Extend: [1, 2, 3, 4, 5, 6, 7, 8, 9]\n",
      "Delete [1, 2, 3, 4, 5, 6, 7, 8]\n",
      "Incorrect Slice: [1, 2, 3, 4, 5, 6, 7, 8]\n",
      "Proper Slice: [1, 2, 3, 4, 5, 6]\n"
     ]
    }
   ],
   "source": [
    "# Let's start with a fresh list\n",
    "list5 = [1, 2, 3, 4, 5]\n",
    "\n",
    "## Appending - Add the specified items to the list\n",
    "list5.append(6)\n",
    "print(\"Append:\", list5)\n",
    "\n",
    "# Extending - Use when you want to add a list of items\n",
    "list5.extend([7,8,9])\n",
    "print(\"Extend:\", list5)\n",
    "\n",
    "# Deleting (Del) - Use to remove an item by its index\n",
    "del list5[-1] # Remove the last index\n",
    "print(\"Delete\", list5)\n",
    "\n",
    "# Deleting (Slicing) - Use slices to exclude items, but doesn't do in-place\n",
    "list5[0:6] #This won't save\n",
    "print(\"Incorrect Slice:\", list5)\n",
    "\n",
    "list5 = list5[0:6] # Proper saving\n",
    "print(\"Proper Slice:\", list5)"
   ]
  },
  {
   "cell_type": "markdown",
   "metadata": {},
   "source": [
    "One more thing you may want to do is sort the list! There are two differnt functions to do this in Python"
   ]
  },
  {
   "cell_type": "code",
   "execution_count": 50,
   "metadata": {},
   "outputs": [
    {
     "name": "stdout",
     "output_type": "stream",
     "text": [
      "Sorted (Wrong): [1, 2, 5, 4, 3]\n",
      "Sorted (Ascending): [1, 2, 3, 4, 5]\n",
      "Sorted (Ascending): [5, 4, 3, 2, 1]\n",
      "Sort: [1, 2, 3, 4, 5]\n"
     ]
    }
   ],
   "source": [
    "list6 = [1,2,5,4,3] # List is out of order\n",
    "\n",
    "# Sorted - Sort, but not in-place\n",
    "sorted(list6, reverse = True)\n",
    "print(\"Sorted (Wrong):\", list6)\n",
    "sorted_6_ascend = sorted(list6)\n",
    "print(\"Sorted (Ascending):\", sorted_6_ascend)\n",
    "sorted_6_descend = sorted(list6, reverse = True) # Flip sort order\n",
    "print(\"Sorted (Ascending):\", sorted_6_descend)\n",
    "\n",
    "# list.sort() - Sort in-place\n",
    "list6.sort() # Also has reverse argument to flip order\n",
    "print('Sort:', list6)"
   ]
  },
  {
   "cell_type": "markdown",
   "metadata": {},
   "source": [
    "One common problem when working with Python lists is that the variables we use to address the list are **pointers**. They only store the *location* of the list in memory."
   ]
  },
  {
   "cell_type": "code",
   "execution_count": 54,
   "metadata": {},
   "outputs": [
    {
     "name": "stdout",
     "output_type": "stream",
     "text": [
      "[1, 2, 3, 4]\n"
     ]
    }
   ],
   "source": [
    "list7 = [1,2,3]\n",
    "list8 = list7 # List8 is referencing the same list as list7!\n",
    "list8.append(4)\n",
    "\n",
    "print(list7)"
   ]
  },
  {
   "cell_type": "markdown",
   "metadata": {},
   "source": [
    "To copy a list, you'll need to use the list constructor to create a new list instead:"
   ]
  },
  {
   "cell_type": "code",
   "execution_count": 57,
   "metadata": {},
   "outputs": [
    {
     "name": "stdout",
     "output_type": "stream",
     "text": [
      "List 7: [1, 2, 3, 4]\n",
      "List 9: [1, 2, 3, 4, 17]\n"
     ]
    }
   ],
   "source": [
    "list9=list(list7) # Creates a new list instead of referencing the same\n",
    "list9.append(17)\n",
    "print(\"List 7:\", list7)\n",
    "print(\"List 9:\", list9)"
   ]
  },
  {
   "cell_type": "markdown",
   "metadata": {},
   "source": [
    "Lastly, you can even create lists of lists. These lists of lists are one way of representing matrices in Python. While we won't introduce it now, numpy is Python package that make working with matrices more efficient that the method described here."
   ]
  },
  {
   "cell_type": "code",
   "execution_count": 70,
   "metadata": {
    "scrolled": true
   },
   "outputs": [
    {
     "name": "stdout",
     "output_type": "stream",
     "text": [
      "Matrix: [[1, 2, 3], [4, 5, 6], [7, 8, 9]]\n",
      "Row 1: [1, 2, 3]\n",
      "Last Row, First Column: 7\n"
     ]
    }
   ],
   "source": [
    "matrix = [[1,2,3],[4,5,6],[7,8,9]]\n",
    "print(\"Matrix:\", matrix)\n",
    "\n",
    "# Selecting the First Row\n",
    "print(\"Row 1:\", matrix[0])\n",
    "\n",
    "# Selecting Specific Element\n",
    "print(\"Last Row, First Column:\", matrix[2][0])"
   ]
  },
  {
   "cell_type": "markdown",
   "metadata": {},
   "source": [
    "## 2.0 - Dictionaries\n",
    "\n",
    "Dictionaries are a special type collection that allows you to map between a \"key\" and a \"value\". Let's see an example below, where we store the cost of some common items."
   ]
  },
  {
   "cell_type": "code",
   "execution_count": 79,
   "metadata": {},
   "outputs": [
    {
     "name": "stdout",
     "output_type": "stream",
     "text": [
      "Eggs: 5\n",
      "Keys: dict_keys(['eggs', 'lettuce', 'tomatoes'])\n",
      "Values: dict_values([5, 8, 9])\n",
      "Eggs Present: True\n",
      "Bread Present: False\n"
     ]
    }
   ],
   "source": [
    "# Creating a Dictionary with Items\n",
    "\n",
    "# Dictionaries are defined by {key:value}\n",
    "item_costs = {'eggs': 5,\n",
    "              'lettuce': 8,\n",
    "              'tomatoes': 9}\n",
    "\n",
    "# To get the value associated with 'eggs'\n",
    "eggs_cost = item_costs['eggs']\n",
    "print(\"Eggs:\", eggs_cost)\n",
    "\n",
    "# Get only the keys\n",
    "item_keys = item_costs.keys()\n",
    "print(\"Keys:\", item_keys)\n",
    "\n",
    "# Get values\n",
    "item_values = item_costs.values()\n",
    "print(\"Values:\", item_values)\n",
    "\n",
    "# Check if a dictionary contains a key\n",
    "present = 'eggs' in item_costs\n",
    "print(\"Eggs Present:\", present) # True if present\n",
    "\n",
    "present = 'bread' in item_costs\n",
    "print(\"Bread Present:\", present) # False if absent"
   ]
  },
  {
   "cell_type": "markdown",
   "metadata": {},
   "source": [
    "Adding and modifying key-value pairs work in a similar matter to getting the value of key. If a key is present, it will overwrite the value. But if the key isn't present, it will store the new pair."
   ]
  },
  {
   "cell_type": "code",
   "execution_count": 82,
   "metadata": {},
   "outputs": [
    {
     "data": {
      "text/plain": [
       "20"
      ]
     },
     "execution_count": 82,
     "metadata": {},
     "output_type": "execute_result"
    }
   ],
   "source": [
    "# Creating a new key-value pair\n",
    "item_costs['veggies'] = 20\n",
    "item_costs['veggies']"
   ]
  },
  {
   "cell_type": "code",
   "execution_count": 83,
   "metadata": {},
   "outputs": [
    {
     "data": {
      "text/plain": [
       "10"
      ]
     },
     "execution_count": 83,
     "metadata": {},
     "output_type": "execute_result"
    }
   ],
   "source": [
    "# Modifying a key's value\n",
    "item_costs['veggies'] = 10\n",
    "item_costs['veggies']"
   ]
  },
  {
   "cell_type": "code",
   "execution_count": 86,
   "metadata": {},
   "outputs": [
    {
     "data": {
      "text/plain": [
       "False"
      ]
     },
     "execution_count": 86,
     "metadata": {},
     "output_type": "execute_result"
    }
   ],
   "source": [
    "# Deleting a Key-Value Pair - Use del like the list\n",
    "\n",
    "del item_costs['veggies']\n",
    "'veggies' in item_costs"
   ]
  },
  {
   "cell_type": "markdown",
   "metadata": {},
   "source": [
    "# 3.0 - Sets\n",
    "Sets are similar to lists, but only store unique values in an unordered manner. While you won't be able to index into a set, sets provide efficient functionality if you're trying to keep a list of things that have appeared."
   ]
  },
  {
   "cell_type": "code",
   "execution_count": 109,
   "metadata": {},
   "outputs": [
    {
     "data": {
      "text/plain": [
       "True"
      ]
     },
     "execution_count": 109,
     "metadata": {},
     "output_type": "execute_result"
    }
   ],
   "source": [
    "# Sets also use {} syntax, but do note define pairs with colons\n",
    "item_set = {'eggs', 'lettuce', 'tomatoes'}\n",
    "\n",
    "# Check if item is in set\n",
    "'eggs' in item_set"
   ]
  },
  {
   "cell_type": "code",
   "execution_count": 110,
   "metadata": {},
   "outputs": [
    {
     "data": {
      "text/plain": [
       "3"
      ]
     },
     "execution_count": 110,
     "metadata": {},
     "output_type": "execute_result"
    }
   ],
   "source": [
    "# Check how many items (length) of set (Just like a list!)\n",
    "len(item_set)"
   ]
  },
  {
   "cell_type": "code",
   "execution_count": 111,
   "metadata": {},
   "outputs": [
    {
     "data": {
      "text/plain": [
       "{'eggs', 'lettuce', 'tomatoes', 'veggies'}"
      ]
     },
     "execution_count": 111,
     "metadata": {},
     "output_type": "execute_result"
    }
   ],
   "source": [
    "# .add - Add One Item\n",
    "item_set.add('veggies')\n",
    "item_set"
   ]
  },
  {
   "cell_type": "code",
   "execution_count": 112,
   "metadata": {},
   "outputs": [
    {
     "data": {
      "text/plain": [
       "{'eggs', 'fish', 'lettuce', 'potatoes', 'tomatoes', 'veggies'}"
      ]
     },
     "execution_count": 112,
     "metadata": {},
     "output_type": "execute_result"
    }
   ],
   "source": [
    "# .update - Add multiple items\n",
    "item_set.update(['fish','potatoes'])\n",
    "item_set"
   ]
  },
  {
   "cell_type": "code",
   "execution_count": 113,
   "metadata": {},
   "outputs": [
    {
     "data": {
      "text/plain": [
       "{'eggs', 'fish', 'lettuce', 'potatoes', 'tomatoes'}"
      ]
     },
     "execution_count": 113,
     "metadata": {},
     "output_type": "execute_result"
    }
   ],
   "source": [
    "# .remove - Remove an item from a set\n",
    "item_set.remove('veggies')\n",
    "item_set"
   ]
  },
  {
   "cell_type": "markdown",
   "metadata": {},
   "source": [
    "These are the basic functions of a set. There are even more complex functions that you can use with sets -- these can be found online at the Python documentation."
   ]
  },
  {
   "cell_type": "markdown",
   "metadata": {},
   "source": [
    "## 4.0 - Tuples\n",
    "\n",
    "Tuples are a unqiue data structure in Python. Unlike lists, these structures are **inmutable**: once they are created, they cannot be changed. Despite this limitation, tuples are used often in Python to group items, specifically when returnign multiple values from a function. Below is a quick introduction to tuples. However, see the [Functions]() module for how tuples may be used in practice."
   ]
  },
  {
   "cell_type": "code",
   "execution_count": 116,
   "metadata": {},
   "outputs": [
    {
     "data": {
      "text/plain": [
       "('word', 1, [1, 2, 3])"
      ]
     },
     "execution_count": 116,
     "metadata": {},
     "output_type": "execute_result"
    }
   ],
   "source": [
    "# Creating a tuple\n",
    "my_tuple = ('word', 1, [1,2,3])\n",
    "my_tuple"
   ]
  },
  {
   "cell_type": "code",
   "execution_count": 119,
   "metadata": {},
   "outputs": [
    {
     "name": "stdout",
     "output_type": "stream",
     "text": [
      "word\n",
      "('word', 1)\n"
     ]
    }
   ],
   "source": [
    "## To get an item from a tuple, you index into it like a list!\n",
    "print(my_tuple[0])\n",
    "\n",
    "print(my_tuple[0:2]) #Even slicing!"
   ]
  },
  {
   "cell_type": "markdown",
   "metadata": {},
   "source": [
    "---\n",
    "\n",
    "[Return to homepage](https://anthony-agbay.github.io/bioe-python-guide/) "
   ]
  },
  {
   "cell_type": "code",
   "execution_count": null,
   "metadata": {},
   "outputs": [],
   "source": []
  }
 ],
 "metadata": {
  "kernelspec": {
   "display_name": "Python 3",
   "language": "python",
   "name": "python3"
  },
  "language_info": {
   "codemirror_mode": {
    "name": "ipython",
    "version": 3
   },
   "file_extension": ".py",
   "mimetype": "text/x-python",
   "name": "python",
   "nbconvert_exporter": "python",
   "pygments_lexer": "ipython3",
   "version": "3.7.3"
  }
 },
 "nbformat": 4,
 "nbformat_minor": 4
}
