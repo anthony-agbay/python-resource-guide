{
 "cells": [
  {
   "cell_type": "markdown",
   "metadata": {},
   "source": [
    "# Control Flow: If, For, and While Loops\n",
    "\n",
    "When building programs, you may want to find ways to repeating certain sets of actions or choosing between sets of actions based on some condition. **Control flow** is the order that different statements or pieces of your code run in. In Python the three basic ways we can control how our code runs are the `for`, `while`, and `if` control statements."
   ]
  },
  {
   "cell_type": "markdown",
   "metadata": {},
   "source": [
    "# 1.0 - If Loops\n",
    "If statements capture the same behavior that we do constantly throughout the day: based on some criteria, do something from a list of options. Let's see how this behavior can be implemented. Below, I've created an if statement to print out whether a number is greater than 0."
   ]
  },
  {
   "cell_type": "markdown",
   "metadata": {},
   "source": [
    "### 1.1 - Example 1: If/Else Statement"
   ]
  },
  {
   "cell_type": "code",
   "execution_count": 14,
   "metadata": {},
   "outputs": [
    {
     "name": "stdout",
     "output_type": "stream",
     "text": [
      "Your number is less than 0.\n"
     ]
    }
   ],
   "source": [
    "your_number = -1\n",
    "\n",
    "if your_number > 0:\n",
    "    print('Your number is greater than 0.')\n",
    "else:\n",
    "    print('Your number is less than 0.')"
   ]
  },
  {
   "cell_type": "markdown",
   "metadata": {},
   "source": [
    "This example only gives a single critera to evaluate on. If the criteria described in the first statement is true, (your_number > 0), then it will run the lines nested below it and then continue. If it doesn't meet the criteria (your_number > 0), then it will not run the nested lines and, instead, run the the lines underneath the `else` statement.\n",
    "\n",
    "But if statements can be strung together to create multiple levels of evaluations! To do so, you'll need to use an `elif` statement. To see how this works, let's extend the example above to tell us if our number is postive or negative:"
   ]
  },
  {
   "cell_type": "markdown",
   "metadata": {},
   "source": [
    "### 1.2 - Example 2: If/Elif/Else Statement"
   ]
  },
  {
   "cell_type": "code",
   "execution_count": 16,
   "metadata": {},
   "outputs": [
    {
     "name": "stdout",
     "output_type": "stream",
     "text": [
      "Your number is negative\n"
     ]
    }
   ],
   "source": [
    "your_number = -1\n",
    "\n",
    "if your_number > 0:\n",
    "    print('Your number is positive.')\n",
    "elif your_number < 0:\n",
    "    print('Your number is negative')\n",
    "else:\n",
    "    print('Your number is exactly 0')"
   ]
  },
  {
   "cell_type": "markdown",
   "metadata": {},
   "source": [
    "When this set of if statements are run, it will go through each criteria from the top to the bottom. Since it failed the first criteria, it is evaluated based on the second criteria. Since it matched the second criteria, it ran the statements underneath and continued on. If you would like to have even more complex criteria, you can add additional `elif` statements."
   ]
  },
  {
   "cell_type": "markdown",
   "metadata": {},
   "source": [
    "# 2.0 - For Loops\n",
    "\n",
    "For loops are one of the most common control flow statements you'll see and use in programming. For loops are used when you want to **run a set of statements over a known number of items**. This \"known number of items\" could be a number of steps (E.g. run for 10 times) or it could be a specific list of items (E.g. run for each item in List A). Let's see how a for loop is structured and how to implement it in Python"
   ]
  },
  {
   "cell_type": "markdown",
   "metadata": {},
   "source": [
    "## 2.1 - Example 1: Print \"Hello World\" Multiple Times\n",
    "\n",
    "To introduce the basic structure of a for-loop, let's try printing \"Hello World\" multiple times."
   ]
  },
  {
   "cell_type": "code",
   "execution_count": 3,
   "metadata": {
    "scrolled": true
   },
   "outputs": [
    {
     "name": "stdout",
     "output_type": "stream",
     "text": [
      "Hello World 0\n",
      "Hello World 1\n",
      "Hello World 2\n"
     ]
    }
   ],
   "source": [
    "for i in range(3):\n",
    "    print('Hello World {}'.format(i))"
   ]
  },
  {
   "cell_type": "markdown",
   "metadata": {},
   "source": [
    "The structure of a for loops follows a simple pattern:\n",
    "\n",
    "<img src=\"img/for-loop-structure.jpeg\" width=\"400\">\n",
    "\n",
    "**Loop Object:**  \n",
    "The loop object is the thing that we are telling the computer to loop over. In some cases (such as this example), we use this to indicate how many times we want to run the loop. In more complex examples, this can be a list of items that the program will automatically pull from (See Example 2).\n",
    "\n",
    "**Loop Variable:**  \n",
    "This is a variable (as you have seen in previous modules) that stores the value for each loop. It can be as simple as a number indicating how many times we have run the loop (as in this Example 1), but can also be the specific item from a list (See Example 2). Like any other Python variable, you are free to name this variable whatever you like.\n",
    "\n",
    "**Loop Statements:**  \n",
    "Any of the lines nested/tabbed underneath the for-loop statement will be run each time you go through a for loop. You can access variables declared outside of the for loop, or even create new variables within it to help with more complex computations."
   ]
  },
  {
   "cell_type": "markdown",
   "metadata": {},
   "source": [
    "## 2.2 - Example 2: Looping Over Items in a List\n",
    "What if you had a list of items that you wanted to loop over? In Python, there are two simple approaches for tackling this problem. Let's see how we can do it."
   ]
  },
  {
   "cell_type": "code",
   "execution_count": 12,
   "metadata": {
    "scrolled": true
   },
   "outputs": [
    {
     "name": "stdout",
     "output_type": "stream",
     "text": [
      "Cat\n",
      "Dog\n",
      "Bunny\n",
      "Bird\n"
     ]
    }
   ],
   "source": [
    "# Here's a list of words we'd like to print\n",
    "word_list = ['Cat', 'Dog', 'Bunny', 'Bird']\n",
    "\n",
    "# Approach 1: Specifying the number of times to loop\n",
    "for i in range(len(word_list)):\n",
    "    print(word_list[i])"
   ]
  },
  {
   "cell_type": "markdown",
   "metadata": {},
   "source": [
    "In this first approach, we use the same approach as in Example 1 by specifying how many times we want to run the for loop over. Since each loop value corresponds to one of the words in our list, we can use the loop value to pick out the word and then print it out.\n",
    "\n",
    "However, you can actually loop over the list **directly**, allowing the computer to automatically pick out the word **and** calculate how many times to run the loop:"
   ]
  },
  {
   "cell_type": "code",
   "execution_count": 7,
   "metadata": {},
   "outputs": [
    {
     "name": "stdout",
     "output_type": "stream",
     "text": [
      "Cat\n",
      "Dog\n",
      "Bunny\n",
      "Bird\n"
     ]
    }
   ],
   "source": [
    "# Approach 2: Loop directly over the list\n",
    "for word in word_list:\n",
    "    print(word)"
   ]
  },
  {
   "cell_type": "markdown",
   "metadata": {},
   "source": [
    "As you can see, the overall structure of the for loop is the exact same. However, instead of specifying the number of times we want to run the for-loop, we provide the list itself, `word_list`. The program will now go through each item in the list and store it in the loop variable, `word`, and run the statements below as normal"
   ]
  },
  {
   "cell_type": "markdown",
   "metadata": {},
   "source": [
    "## 2.3 - Example 3: Storing Values from a For Loop\n",
    "In many cases, you may want to calculate and store values every time you run a for loop.\n",
    "Let's see how this can be implemented:"
   ]
  },
  {
   "cell_type": "code",
   "execution_count": 10,
   "metadata": {},
   "outputs": [
    {
     "name": "stdout",
     "output_type": "stream",
     "text": [
      "[5, 6, 7, 8, 9]\n"
     ]
    }
   ],
   "source": [
    "values = [] # List to store values from the for loop\n",
    "\n",
    "for i in range(5): # Let's loop for 5 times\n",
    "    val_to_store = i + 5 # Compute the value you'd like to store\n",
    "    values.append(val_to_store) # Use \".append\" method to store value in the outside list\n",
    "\n",
    "print(values) # Our val_to_store are now in a list!"
   ]
  },
  {
   "cell_type": "markdown",
   "metadata": {},
   "source": [
    "In this example, we decided to store the values we are calculating in a for loop in a list. However, we could store them in any of the collection formats we discussed before."
   ]
  },
  {
   "cell_type": "markdown",
   "metadata": {},
   "source": [
    "## 2.4 - Example 4: Breaking out of For Loops\n",
    "\n",
    "While going through a for loop, there may be cases where you'll want to stop iterating early based on a threshold or other metric. To implement this, we combine a for loop with an `if` and `break` statement."
   ]
  },
  {
   "cell_type": "code",
   "execution_count": 18,
   "metadata": {},
   "outputs": [
    {
     "name": "stdout",
     "output_type": "stream",
     "text": [
      "128\n"
     ]
    }
   ],
   "source": [
    "a = 1 # This is a value we'll keep track of\n",
    "threshold = 100 # Maximum value for a before we want to stop\n",
    "\n",
    "for i in range(100):\n",
    "    a *= 2 # Double a\n",
    "    \n",
    "    # Check if a is above threshold\n",
    "    if a > threshold:\n",
    "        break # Break will cause the program to leave the enclosing loop\n",
    "print(a)"
   ]
  },
  {
   "cell_type": "markdown",
   "metadata": {},
   "source": [
    "## While Loops\n",
    "Unlike for loops, while loops we don't provide an explicit number of times to run the loop. Instead we provide the **condition for stopping**."
   ]
  },
  {
   "cell_type": "code",
   "execution_count": 21,
   "metadata": {},
   "outputs": [
    {
     "name": "stdout",
     "output_type": "stream",
     "text": [
      "128\n"
     ]
    }
   ],
   "source": [
    "b = 1 # This is a value we'll keep track of\n",
    "threshold_b = 100\n",
    "\n",
    "while b < threshold_b: # This is our evaluation criteria\n",
    "    b*= 2\n",
    "print(b)"
   ]
  },
  {
   "cell_type": "markdown",
   "metadata": {},
   "source": [
    "You may notice that this looks very similar to the for loop with a threshold introduced as Example 4. Like that for loop, this while loop will check that the condition `b < threshold_b` every time it reaches the last nested statement. If that evaluation returns false, it will break out of the loop, just like our explicit evaluation in the for loop case. \n",
    "\n",
    "However, this loop will continue running *as long as the stated condition isn't satisfied* This leads to a common error where a while-loop condition never finishes running. Try running the code below, instead of an upper threshold, we're looking to see when c is exactly equal to the threshold."
   ]
  },
  {
   "cell_type": "code",
   "execution_count": 11,
   "metadata": {
    "scrolled": false
   },
   "outputs": [
    {
     "ename": "KeyboardInterrupt",
     "evalue": "",
     "output_type": "error",
     "traceback": [
      "\u001b[0;31m---------------------------------------------------------------------------\u001b[0m",
      "\u001b[0;31mKeyboardInterrupt\u001b[0m                         Traceback (most recent call last)",
      "\u001b[0;32m<ipython-input-11-3d54193fff9c>\u001b[0m in \u001b[0;36m<module>\u001b[0;34m\u001b[0m\n\u001b[1;32m      3\u001b[0m \u001b[0;34m\u001b[0m\u001b[0m\n\u001b[1;32m      4\u001b[0m \u001b[0;32mwhile\u001b[0m \u001b[0mc\u001b[0m \u001b[0;34m!=\u001b[0m \u001b[0mtarget\u001b[0m\u001b[0;34m:\u001b[0m\u001b[0;34m\u001b[0m\u001b[0;34m\u001b[0m\u001b[0m\n\u001b[0;32m----> 5\u001b[0;31m     \u001b[0mc\u001b[0m \u001b[0;34m*=\u001b[0m \u001b[0;36m2\u001b[0m\u001b[0;34m\u001b[0m\u001b[0;34m\u001b[0m\u001b[0m\n\u001b[0m\u001b[1;32m      6\u001b[0m \u001b[0mprint\u001b[0m\u001b[0;34m(\u001b[0m\u001b[0mc\u001b[0m\u001b[0;34m)\u001b[0m\u001b[0;34m\u001b[0m\u001b[0;34m\u001b[0m\u001b[0m\n",
      "\u001b[0;31mKeyboardInterrupt\u001b[0m: "
     ]
    }
   ],
   "source": [
    "c = 1 # Indicator to keep track of\n",
    "target = 100 # Imagine you accidently left a negative sign\n",
    "\n",
    "while c != target:\n",
    "    c *= 2\n",
    "print(c)"
   ]
  },
  {
   "cell_type": "markdown",
   "metadata": {},
   "source": [
    "Before you let this code snippet keep running (you'll see a `*` next to the cell number), go up to the menu bar and interrupt the kernel. As you can see, the condition `c!= target` is never true, resulting in a while loop that runs forever."
   ]
  },
  {
   "cell_type": "markdown",
   "metadata": {},
   "source": [
    "---\n",
    "\n",
    "[Return to homepage](https://anthony-agbay.github.io/bioe-python-guide/) "
   ]
  }
 ],
 "metadata": {
  "kernelspec": {
   "display_name": "Python 3",
   "language": "python",
   "name": "python3"
  },
  "language_info": {
   "codemirror_mode": {
    "name": "ipython",
    "version": 3
   },
   "file_extension": ".py",
   "mimetype": "text/x-python",
   "name": "python",
   "nbconvert_exporter": "python",
   "pygments_lexer": "ipython3",
   "version": "3.7.3"
  }
 },
 "nbformat": 4,
 "nbformat_minor": 2
}
