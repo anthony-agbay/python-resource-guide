{
 "cells": [
  {
   "cell_type": "markdown",
   "metadata": {},
   "source": [
    "# Vectorization\n",
    "\n",
    "Vectorization is an important skill to improve coding efficiency, especially when working with large datasets. The key to vectorization is operating on entire matrices or vectors instead applying the operation sequentially for each element (E.g. through for loops). Numpy is often the foundation for these applications.\n",
    "\n",
    "## When to Think About Vectorization\n",
    "\n",
    "When working with small amounts of data, vectorization will not make as big of a difference (see examples below). However, for more complicated tasks with much larger amounts of data (particularly in machine learning or deep learning applications), vectorization becomes an essential tool. Excluding data size, there are two key questions to help you think about when you can apply vectorization:\n",
    "\n",
    "1. Am I applying the same function uniformly across some data?\n",
    "2. Can I use matrix operations?"
   ]
  },
  {
   "cell_type": "markdown",
   "metadata": {},
   "source": [
    "##  **Example: Multiplication**\n",
    "Below is an introductory example introducing how to vectorize multiplying an entire list of numbers."
   ]
  },
  {
   "cell_type": "code",
   "execution_count": 4,
   "metadata": {},
   "outputs": [],
   "source": [
    "## Required Imports\n",
    "import numpy as np\n",
    "import time\n",
    "import timeit\n",
    "np.random.seed(0) # Set seed to keep uniform values"
   ]
  },
  {
   "cell_type": "code",
   "execution_count": 5,
   "metadata": {},
   "outputs": [],
   "source": [
    "# Multiplication using an explicit for loop\n",
    "def explicit_multi(num_list, sample_num):\n",
    "    \n",
    "    list_explicit = np.zeros(sample_num) # Storage\n",
    "\n",
    "    t1_explicit = time.time()\n",
    "\n",
    "    # Sequentially multiply each value\n",
    "    for i in range(sample_num):\n",
    "        list_explicit[i] = num_list[i]*5\n",
    "    t2_explicit = time.time() # End Timer\n",
    "\n",
    "    print('Explicit: {}'.format(t2_explicit - t1_explicit))\n",
    "    return(list_explicit)\n",
    "\n",
    "# Multiplication using a vectorized implementation\n",
    "def vectorized_multi(num_list,sample_num):\n",
    "\n",
    "    list_vectorized = np.zeros(sample_num) # Storage\n",
    "\n",
    "    t1_vect = time.time()\n",
    "    \n",
    "    # Instead of a for loop, use utilize numpy to\n",
    "    # apply multiplication in parallel\n",
    "    list_vectorized = num_list*5\n",
    "\n",
    "    t2_vect = time.time()\n",
    "    print('Vectorized: {}'.format(t2_vect - t1_vect))\n",
    "    return(list_vectorized)"
   ]
  },
  {
   "cell_type": "markdown",
   "metadata": {},
   "source": [
    "With small datasets, vectorization is roughly equal or a little better than the explicit operations."
   ]
  },
  {
   "cell_type": "code",
   "execution_count": 11,
   "metadata": {},
   "outputs": [
    {
     "name": "stdout",
     "output_type": "stream",
     "text": [
      "Explicit: 1.621246337890625e-05\n",
      "Vectorized: 1.2874603271484375e-05\n",
      "Arrays Equal: True\n"
     ]
    }
   ],
   "source": [
    "# 20 Numbers\n",
    "number_list = np.random.randint(0, 10, size=20)\n",
    "exp = explicit_multi(number_list, 20)\n",
    "vect = vectorized_multi(number_list, 20)\n",
    "\n",
    "# Verify that the two are the same:\n",
    "print('Arrays Equal: {}'.format(np.array_equal(exp, vect)))"
   ]
  },
  {
   "cell_type": "markdown",
   "metadata": {},
   "source": [
    "With larger datasets, the savings from vectorization increases rapidly."
   ]
  },
  {
   "cell_type": "code",
   "execution_count": 12,
   "metadata": {},
   "outputs": [
    {
     "name": "stdout",
     "output_type": "stream",
     "text": [
      "10,000 Numbers\n",
      "Explicit: 0.0037522315979003906\n",
      "Vectorized: 0.00019502639770507812\n",
      "1,000,000 Numbers\n",
      "Explicit: 0.3107171058654785\n",
      "Vectorized: 0.0034859180450439453\n"
     ]
    }
   ],
   "source": [
    "# 10000 Numbers\n",
    "print('10,000 Numbers')\n",
    "number_list = np.random.randint(0, 10, size=10000)\n",
    "exp = explicit_multi(number_list, 10000)\n",
    "vect = vectorized_multi(number_list, 10000)\n",
    "\n",
    "# 1000000 Numbers\n",
    "print('1,000,000 Numbers')\n",
    "number_list = np.random.randint(0, 10, size=1000000)\n",
    "exp = explicit_multi(number_list, 1000000)\n",
    "vect = vectorized_multi(number_list, 1000000)"
   ]
  },
  {
   "cell_type": "markdown",
   "metadata": {},
   "source": [
    "## **Example: Row Sums**\n",
    "\n",
    "Let's look at summing multiple lists of numbers at once, using built in numpy functions"
   ]
  },
  {
   "cell_type": "code",
   "execution_count": 16,
   "metadata": {},
   "outputs": [
    {
     "name": "stdout",
     "output_type": "stream",
     "text": [
      "Explicit: 0.018610000610351562\n",
      "Vectorized: 0.00030112266540527344\n"
     ]
    }
   ],
   "source": [
    "np.random.seed(0)\n",
    "\n",
    "# 1000 samples with 100 numbers each\n",
    "samples = np.random.randint(0, 10, (1000,100))\n",
    "\n",
    "# Looking for an array of 100 sums\n",
    "\n",
    "def explicit_sums(samples):\n",
    "    \n",
    "    sum_explicit = np.zeros(samples.shape[0]) # Storage\n",
    "\n",
    "    t1_explicit = time.time()\n",
    "\n",
    "    # Sequentially sum\n",
    "    for i in range(samples.shape[0]):\n",
    "        curr_row = samples[i,:]\n",
    "        temp = 0\n",
    "        for j in range(len(curr_row)):\n",
    "            temp += curr_row[j] # Sum the row\n",
    "        sum_explicit[i] = temp\n",
    "    t2_explicit = time.time() # End Timer\n",
    "\n",
    "    print('Explicit: {}'.format(t2_explicit - t1_explicit))\n",
    "    \n",
    "\n",
    "# Multiplication using a vectorized implementation\n",
    "def vectorized_sums(samples):\n",
    "\n",
    "    t1_vect = time.time()\n",
    "    # Use built-in numpy functions for vectorized implementation\n",
    "    sum_vectorized = np.sum(samples, axis=1) # Axis=1 sums the entire row\n",
    "\n",
    "    t2_vect = time.time()\n",
    "    print('Vectorized: {}'.format(t2_vect - t1_vect))\n",
    "\n",
    "\n",
    "explicit_sums(samples)\n",
    "vectorized_sums(samples)"
   ]
  },
  {
   "cell_type": "code",
   "execution_count": null,
   "metadata": {},
   "outputs": [],
   "source": []
  }
 ],
 "metadata": {
  "kernelspec": {
   "display_name": "Python 3",
   "language": "python",
   "name": "python3"
  },
  "language_info": {
   "codemirror_mode": {
    "name": "ipython",
    "version": 3
   },
   "file_extension": ".py",
   "mimetype": "text/x-python",
   "name": "python",
   "nbconvert_exporter": "python",
   "pygments_lexer": "ipython3",
   "version": "3.7.3"
  }
 },
 "nbformat": 4,
 "nbformat_minor": 2
}
